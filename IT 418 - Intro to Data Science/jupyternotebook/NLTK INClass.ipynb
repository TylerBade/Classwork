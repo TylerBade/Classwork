{
 "cells": [
  {
   "cell_type": "code",
   "execution_count": 2,
   "metadata": {},
   "outputs": [
    {
     "name": "stdout",
     "output_type": "stream",
     "text": [
      "Requirement already satisfied: nltk in d:\\anaconda\\lib\\site-packages\n",
      "Requirement already satisfied: six in d:\\anaconda\\lib\\site-packages (from nltk)\n"
     ]
    }
   ],
   "source": [
    "! pip install nltk"
   ]
  },
  {
   "cell_type": "code",
   "execution_count": 1,
   "metadata": {},
   "outputs": [],
   "source": [
    "import nltk"
   ]
  },
  {
   "cell_type": "code",
   "execution_count": 4,
   "metadata": {},
   "outputs": [
    {
     "name": "stdout",
     "output_type": "stream",
     "text": [
      "showing info https://raw.githubusercontent.com/nltk/nltk_data/gh-pages/index.xml\n"
     ]
    },
    {
     "data": {
      "text/plain": [
       "True"
      ]
     },
     "execution_count": 4,
     "metadata": {},
     "output_type": "execute_result"
    }
   ],
   "source": [
    "nltk.download()"
   ]
  },
  {
   "cell_type": "code",
   "execution_count": 2,
   "metadata": {},
   "outputs": [],
   "source": [
    "from nltk.tokenize import word_tokenize"
   ]
  },
  {
   "cell_type": "code",
   "execution_count": 3,
   "metadata": {},
   "outputs": [],
   "source": [
    "text = \"The quick brown fox jumped over the lazy dog\""
   ]
  },
  {
   "cell_type": "code",
   "execution_count": 4,
   "metadata": {},
   "outputs": [],
   "source": [
    "words = word_tokenize(text)"
   ]
  },
  {
   "cell_type": "code",
   "execution_count": 5,
   "metadata": {},
   "outputs": [
    {
     "name": "stdout",
     "output_type": "stream",
     "text": [
      "['The', 'quick', 'brown', 'fox', 'jumped', 'over', 'the', 'lazy', 'dog']\n"
     ]
    }
   ],
   "source": [
    "print(words)"
   ]
  },
  {
   "cell_type": "code",
   "execution_count": 6,
   "metadata": {},
   "outputs": [],
   "source": [
    "from nltk.tokenize import word_tokenize, sent_tokenize"
   ]
  },
  {
   "cell_type": "code",
   "execution_count": 8,
   "metadata": {},
   "outputs": [],
   "source": [
    "text = \"The quick brown fox jumped over the lazy dog. Who said the dog was lazy?\""
   ]
  },
  {
   "cell_type": "code",
   "execution_count": 9,
   "metadata": {},
   "outputs": [],
   "source": [
    "sentence = sent_tokenize(text)"
   ]
  },
  {
   "cell_type": "code",
   "execution_count": 10,
   "metadata": {},
   "outputs": [
    {
     "name": "stdout",
     "output_type": "stream",
     "text": [
      "['The quick brown fox jumped over the lazy dog.', 'Who said the dog was lazy?']\n"
     ]
    }
   ],
   "source": [
    "print(sentence)"
   ]
  },
  {
   "cell_type": "code",
   "execution_count": 11,
   "metadata": {},
   "outputs": [],
   "source": [
    "from nltk.tokenize import TweetTokenizer"
   ]
  },
  {
   "cell_type": "code",
   "execution_count": 12,
   "metadata": {},
   "outputs": [],
   "source": [
    "tokenizer = TweetTokenizer()"
   ]
  },
  {
   "cell_type": "code",
   "execution_count": 13,
   "metadata": {},
   "outputs": [],
   "source": [
    "tweet = \"@Me: This is not how you do this. http://whoops.com #sorry\""
   ]
  },
  {
   "cell_type": "code",
   "execution_count": 14,
   "metadata": {},
   "outputs": [
    {
     "name": "stdout",
     "output_type": "stream",
     "text": [
      "['@Me', ':', 'This', 'is', 'not', 'how', 'you', 'do', 'this', '.', 'http://whoops.com', '#sorry']\n"
     ]
    }
   ],
   "source": [
    "print(tokenizer.tokenize(tweet))"
   ]
  },
  {
   "cell_type": "code",
   "execution_count": 15,
   "metadata": {},
   "outputs": [
    {
     "name": "stdout",
     "output_type": "stream",
     "text": [
      "Collecting textblob\n",
      "  Downloading textblob-0.15.1-py2.py3-none-any.whl (631kB)\n",
      "Requirement already satisfied: nltk>=3.1 in d:\\anaconda\\lib\\site-packages (from textblob)\n",
      "Requirement already satisfied: six in d:\\anaconda\\lib\\site-packages (from nltk>=3.1->textblob)\n",
      "Installing collected packages: textblob\n",
      "Successfully installed textblob-0.15.1\n"
     ]
    }
   ],
   "source": [
    "! pip install textblob"
   ]
  },
  {
   "cell_type": "code",
   "execution_count": 16,
   "metadata": {},
   "outputs": [],
   "source": [
    "from textblob import TextBlob"
   ]
  },
  {
   "cell_type": "code",
   "execution_count": 17,
   "metadata": {},
   "outputs": [],
   "source": [
    "SomeText = TextBlob(\"The quick brown fox jumped over the lazy dog. Who said the dog was lazy\")"
   ]
  },
  {
   "cell_type": "code",
   "execution_count": 19,
   "metadata": {},
   "outputs": [
    {
     "data": {
      "text/plain": [
       "WordList(['The', 'quick', 'brown', 'fox', 'jumped', 'over', 'the', 'lazy', 'dog', 'Who', 'said', 'the', 'dog', 'was', 'lazy'])"
      ]
     },
     "execution_count": 19,
     "metadata": {},
     "output_type": "execute_result"
    }
   ],
   "source": [
    "SomeText.words"
   ]
  },
  {
   "cell_type": "code",
   "execution_count": 20,
   "metadata": {},
   "outputs": [
    {
     "data": {
      "text/plain": [
       "-0.05555555555555556"
      ]
     },
     "execution_count": 20,
     "metadata": {},
     "output_type": "execute_result"
    }
   ],
   "source": [
    "SomeText.sentiment.polarity"
   ]
  },
  {
   "cell_type": "code",
   "execution_count": 21,
   "metadata": {},
   "outputs": [
    {
     "name": "stdout",
     "output_type": "stream",
     "text": [
      "Collecting tweepy==3.3.0\n",
      "  Downloading tweepy-3.3.0-py2.py3-none-any.whl\n",
      "Requirement already satisfied: requests-oauthlib>=0.4.1 in d:\\anaconda\\lib\\site-packages (from tweepy==3.3.0)\n",
      "Requirement already satisfied: requests>=2.4.3 in d:\\anaconda\\lib\\site-packages (from tweepy==3.3.0)\n",
      "Requirement already satisfied: six>=1.7.3 in d:\\anaconda\\lib\\site-packages (from tweepy==3.3.0)\n",
      "Requirement already satisfied: oauthlib>=0.6.2 in d:\\anaconda\\lib\\site-packages (from requests-oauthlib>=0.4.1->tweepy==3.3.0)\n",
      "Requirement already satisfied: chardet<3.1.0,>=3.0.2 in d:\\anaconda\\lib\\site-packages (from requests>=2.4.3->tweepy==3.3.0)\n",
      "Requirement already satisfied: idna<2.7,>=2.5 in d:\\anaconda\\lib\\site-packages (from requests>=2.4.3->tweepy==3.3.0)\n",
      "Requirement already satisfied: urllib3<1.23,>=1.21.1 in d:\\anaconda\\lib\\site-packages (from requests>=2.4.3->tweepy==3.3.0)\n",
      "Requirement already satisfied: certifi>=2017.4.17 in d:\\anaconda\\lib\\site-packages (from requests>=2.4.3->tweepy==3.3.0)\n",
      "Installing collected packages: tweepy\n",
      "  Found existing installation: tweepy 3.5.0\n",
      "    Uninstalling tweepy-3.5.0:\n",
      "      Successfully uninstalled tweepy-3.5.0\n",
      "Successfully installed tweepy-3.3.0\n"
     ]
    }
   ],
   "source": [
    "!pip install tweepy==3.3.0"
   ]
  },
  {
   "cell_type": "code",
   "execution_count": 26,
   "metadata": {},
   "outputs": [],
   "source": [
    "import tweepy\n",
    "from textblob import TextBlob"
   ]
  },
  {
   "cell_type": "code",
   "execution_count": 29,
   "metadata": {},
   "outputs": [],
   "source": [
    "consumer_key = 'WmsIjI8N0h3lHodX9mwf6RIcn'\n",
    "consumer_secret = 'em17nloIAG9ME0BySaxdBwBxNauhWdOD5lntSTU8xuwgvAfB1o'\n",
    "access_token = '960973273629708295-2EvtRhTMhh8rDHXGoow185BTcZ93EES'\n",
    "access_token_secret = 'qdtSvXt16YwtK8j32pTa7JWPoVT5uTr0plueBpCAWikLQ'\n",
    "auth = tweepy.OAuthHandler(consumer_key, consumer_secret)\n",
    "auth.set_access_token(access_token, access_token_secret)\n",
    "api = tweepy.API(auth)"
   ]
  },
  {
   "cell_type": "code",
   "execution_count": 30,
   "metadata": {},
   "outputs": [
    {
     "name": "stdout",
     "output_type": "stream",
     "text": [
      "RT @rbukralia\n",
      "\n",
      "8 early warning signs of IT disaster. #CIO #Tech #Leadership #IT https://t.co/CDE4QOHVJq\n",
      "Sentiment(polarity=0.1, subjectivity=0.3)\n",
      "“AI is probably the most important thing humanity has ever worked on. I think of it as something more profound than… https://t.co/bROHo7pIgV\n",
      "Sentiment(polarity=0.3708333333333333, subjectivity=0.75)\n",
      "A Simple Starter Guide to Build a Neural Network https://t.co/iaUe1EfBIs #DataScience #MachineLearning #DeepLearning\n",
      "Sentiment(polarity=0.0, subjectivity=0.35714285714285715)\n",
      "Illinois vs. Dubai: Two Experiments Bring Blockchains to Government - IEEE Spectrum https://t.co/68iXLyMZKS… https://t.co/rU0mu1K4OW\n",
      "Sentiment(polarity=0.0, subjectivity=0.0)\n",
      "How Smart Contracts Work - IEEE Spectrum https://t.co/izZEBv2VPr #Blockchain #FinTech #CIO #CFO\n",
      "Sentiment(polarity=0.21428571428571427, subjectivity=0.6428571428571429)\n",
      "Wall Street Firms to Move Trillions to Blockchains in 2018 - IEEE Spectrum https://t.co/4xcAPv1X2q #Blockchain #FinTech #CIO\n",
      "Sentiment(polarity=0.0, subjectivity=0.0)\n",
      "@rbukralia hey, thanks for the follow! Let us know if we can help out with any of your digital needs. #Mobile #Web #eCommerce\n",
      "Sentiment(polarity=0.125, subjectivity=0.1)\n",
      "Clever Machines Learn How to Be Curious | Quanta Magazine https://t.co/nye8CE0Cyr #AI #ArtificialIntelligence\n",
      "Sentiment(polarity=0.033333333333333326, subjectivity=0.9166666666666667)\n",
      "The latest https://t.co/caCJKajW18! https://t.co/efm7WQpjtI Thanks to @rbukralia #ai #machinelearning\n",
      "Sentiment(polarity=0.4125, subjectivity=0.55)\n",
      "Five Misconceptions about Data Science - Knowing What You Don’t Know. https://t.co/r5UtmeyP7K #DataScience #Analytics\n",
      "Sentiment(polarity=0.0, subjectivity=0.0)\n",
      "A.I. will turn us into ‘superhuman workers,’ founder of secret Google X lab says. https://t.co/cNbFiJtgIh #AI… https://t.co/1NSSgGnnQN\n",
      "Sentiment(polarity=-0.4, subjectivity=0.7)\n",
      "How Smart Contracts Work - IEEE Spectrum https://t.co/izZEBv2VPr #Blockchain #FinTech #CIO #CFO\n",
      "Sentiment(polarity=0.21428571428571427, subjectivity=0.6428571428571429)\n",
      "How to Boost Your Career in Big Data and Analytics. https://t.co/hnDSq4NLnb #BigData #Analytics #DataScience… https://t.co/ZxOou3vyHM\n",
      "Sentiment(polarity=0.0, subjectivity=0.1)\n",
      "RT @DaveRubal: Illinois vs. Dubai: Two Experiments Bring #Blockchain to Government - IEEE Spectrum https://t.co/lPpghsdktX #Infosec #BigDat…\n",
      "Sentiment(polarity=0.0, subjectivity=0.0)\n",
      "The Birth of AI and The First AI Hype Cycle https://t.co/TFRktXfBjX #AI #ArtificialIntelligence #Tech\n",
      "Sentiment(polarity=0.25, subjectivity=0.3333333333333333)\n"
     ]
    }
   ],
   "source": [
    "public_tweets = api.search('rbukralia')\n",
    "for tweet in public_tweets:\n",
    "    print(tweet.text)\n",
    "    analysis = TextBlob(tweet.text)\n",
    "    print(analysis.sentiment)"
   ]
  },
  {
   "cell_type": "code",
   "execution_count": 33,
   "metadata": {},
   "outputs": [
    {
     "name": "stdout",
     "output_type": "stream",
     "text": [
      "Collecting wordcloud\n",
      "  Using cached wordcloud-1.3.1.tar.gz\n",
      "Requirement already satisfied: matplotlib in d:\\anaconda\\lib\\site-packages (from wordcloud)\n",
      "Requirement already satisfied: numpy>=1.6.1 in d:\\anaconda\\lib\\site-packages (from wordcloud)\n",
      "Requirement already satisfied: pillow in d:\\anaconda\\lib\\site-packages (from wordcloud)\n",
      "Requirement already satisfied: six>=1.10 in d:\\anaconda\\lib\\site-packages (from matplotlib->wordcloud)\n",
      "Requirement already satisfied: python-dateutil>=2.0 in d:\\anaconda\\lib\\site-packages (from matplotlib->wordcloud)\n",
      "Requirement already satisfied: pytz in d:\\anaconda\\lib\\site-packages (from matplotlib->wordcloud)\n",
      "Requirement already satisfied: cycler>=0.10 in d:\\anaconda\\lib\\site-packages (from matplotlib->wordcloud)\n",
      "Requirement already satisfied: pyparsing!=2.0.4,!=2.1.2,!=2.1.6,>=2.0.1 in d:\\anaconda\\lib\\site-packages (from matplotlib->wordcloud)\n",
      "Requirement already satisfied: olefile in d:\\anaconda\\lib\\site-packages (from pillow->wordcloud)\n",
      "Building wheels for collected packages: wordcloud\n",
      "  Running setup.py bdist_wheel for wordcloud: started\n",
      "  Running setup.py bdist_wheel for wordcloud: finished with status 'error'\n",
      "  Complete output from command D:\\Anaconda\\python.exe -u -c \"import setuptools, tokenize;__file__='C:\\\\Users\\\\tjbad\\\\AppData\\\\Local\\\\Temp\\\\pip-build-vivghm9x\\\\wordcloud\\\\setup.py';f=getattr(tokenize, 'open', open)(__file__);code=f.read().replace('\\r\\n', '\\n');f.close();exec(compile(code, __file__, 'exec'))\" bdist_wheel -d C:\\Users\\tjbad\\AppData\\Local\\Temp\\tmpp7xlqjgepip-wheel- --python-tag cp36:\n",
      "  running bdist_wheel\n",
      "  running build\n",
      "  running build_py\n",
      "  creating build\n",
      "  creating build\\lib.win-amd64-3.6\n",
      "  creating build\\lib.win-amd64-3.6\\wordcloud\n",
      "  copying wordcloud\\color_from_image.py -> build\\lib.win-amd64-3.6\\wordcloud\n",
      "  copying wordcloud\\tokenization.py -> build\\lib.win-amd64-3.6\\wordcloud\n",
      "  copying wordcloud\\wordcloud.py -> build\\lib.win-amd64-3.6\\wordcloud\n",
      "  copying wordcloud\\wordcloud_cli.py -> build\\lib.win-amd64-3.6\\wordcloud\n",
      "  copying wordcloud\\__init__.py -> build\\lib.win-amd64-3.6\\wordcloud\n",
      "  copying wordcloud\\stopwords -> build\\lib.win-amd64-3.6\\wordcloud\n",
      "  copying wordcloud\\DroidSansMono.ttf -> build\\lib.win-amd64-3.6\\wordcloud\n",
      "  running build_ext\n",
      "  building 'wordcloud.query_integral_image' extension\n",
      "  creating build\\temp.win-amd64-3.6\n",
      "  creating build\\temp.win-amd64-3.6\\Release\n",
      "  creating build\\temp.win-amd64-3.6\\Release\\wordcloud\n",
      "  C:\\Program Files (x86)\\Microsoft Visual Studio 14.0\\VC\\BIN\\x86_amd64\\cl.exe /c /nologo /Ox /W3 /GL /DNDEBUG /MD -ID:\\Anaconda\\include -ID:\\Anaconda\\include \"-IC:\\Program Files (x86)\\Microsoft Visual Studio 14.0\\VC\\INCLUDE\" \"-IC:\\Program Files (x86)\\Windows Kits\\10\\include\\10.0.10240.0\\ucrt\" \"-IC:\\Program Files (x86)\\Windows Kits\\NETFXSDK\\4.6.1\\include\\um\" \"-IC:\\Program Files (x86)\\Windows Kits\\10\\include\\10.0.10240.0\\shared\" \"-IC:\\Program Files (x86)\\Windows Kits\\10\\include\\10.0.10240.0\\um\" \"-IC:\\Program Files (x86)\\Windows Kits\\10\\include\\10.0.10240.0\\winrt\" /Tcwordcloud/query_integral_image.c /Fobuild\\temp.win-amd64-3.6\\Release\\wordcloud/query_integral_image.obj\n",
      "  query_integral_image.c\n",
      "  D:\\Anaconda\\include\\pyconfig.h(222): fatal error C1083: Cannot open include file: 'basetsd.h': No such file or directory\n",
      "  error: command 'C:\\\\Program Files (x86)\\\\Microsoft Visual Studio 14.0\\\\VC\\\\BIN\\\\x86_amd64\\\\cl.exe' failed with exit status 2\n",
      "  \n",
      "  ----------------------------------------\n",
      "  Running setup.py clean for wordcloud\n",
      "Failed to build wordcloud\n",
      "Installing collected packages: wordcloud\n",
      "  Running setup.py install for wordcloud: started\n",
      "    Running setup.py install for wordcloud: finished with status 'error'\n",
      "    Complete output from command D:\\Anaconda\\python.exe -u -c \"import setuptools, tokenize;__file__='C:\\\\Users\\\\tjbad\\\\AppData\\\\Local\\\\Temp\\\\pip-build-vivghm9x\\\\wordcloud\\\\setup.py';f=getattr(tokenize, 'open', open)(__file__);code=f.read().replace('\\r\\n', '\\n');f.close();exec(compile(code, __file__, 'exec'))\" install --record C:\\Users\\tjbad\\AppData\\Local\\Temp\\pip-h5p5_qy0-record\\install-record.txt --single-version-externally-managed --compile:\n",
      "    running install\n",
      "    running build\n",
      "    running build_py\n",
      "    creating build\n",
      "    creating build\\lib.win-amd64-3.6\n",
      "    creating build\\lib.win-amd64-3.6\\wordcloud\n",
      "    copying wordcloud\\color_from_image.py -> build\\lib.win-amd64-3.6\\wordcloud\n",
      "    copying wordcloud\\tokenization.py -> build\\lib.win-amd64-3.6\\wordcloud\n",
      "    copying wordcloud\\wordcloud.py -> build\\lib.win-amd64-3.6\\wordcloud\n",
      "    copying wordcloud\\wordcloud_cli.py -> build\\lib.win-amd64-3.6\\wordcloud\n",
      "    copying wordcloud\\__init__.py -> build\\lib.win-amd64-3.6\\wordcloud\n",
      "    copying wordcloud\\stopwords -> build\\lib.win-amd64-3.6\\wordcloud\n",
      "    copying wordcloud\\DroidSansMono.ttf -> build\\lib.win-amd64-3.6\\wordcloud\n",
      "    running build_ext\n",
      "    building 'wordcloud.query_integral_image' extension\n",
      "    creating build\\temp.win-amd64-3.6\n",
      "    creating build\\temp.win-amd64-3.6\\Release\n",
      "    creating build\\temp.win-amd64-3.6\\Release\\wordcloud\n",
      "    C:\\Program Files (x86)\\Microsoft Visual Studio 14.0\\VC\\BIN\\x86_amd64\\cl.exe /c /nologo /Ox /W3 /GL /DNDEBUG /MD -ID:\\Anaconda\\include -ID:\\Anaconda\\include \"-IC:\\Program Files (x86)\\Microsoft Visual Studio 14.0\\VC\\INCLUDE\" \"-IC:\\Program Files (x86)\\Windows Kits\\10\\include\\10.0.10240.0\\ucrt\" \"-IC:\\Program Files (x86)\\Windows Kits\\NETFXSDK\\4.6.1\\include\\um\" \"-IC:\\Program Files (x86)\\Windows Kits\\10\\include\\10.0.10240.0\\shared\" \"-IC:\\Program Files (x86)\\Windows Kits\\10\\include\\10.0.10240.0\\um\" \"-IC:\\Program Files (x86)\\Windows Kits\\10\\include\\10.0.10240.0\\winrt\" /Tcwordcloud/query_integral_image.c /Fobuild\\temp.win-amd64-3.6\\Release\\wordcloud/query_integral_image.obj\n",
      "    query_integral_image.c\n",
      "    D:\\Anaconda\\include\\pyconfig.h(222): fatal error C1083: Cannot open include file: 'basetsd.h': No such file or directory\n",
      "    error: command 'C:\\\\Program Files (x86)\\\\Microsoft Visual Studio 14.0\\\\VC\\\\BIN\\\\x86_amd64\\\\cl.exe' failed with exit status 2\n",
      "    \n",
      "    ----------------------------------------\n"
     ]
    },
    {
     "name": "stderr",
     "output_type": "stream",
     "text": [
      "  Failed building wheel for wordcloud\n",
      "Command \"D:\\Anaconda\\python.exe -u -c \"import setuptools, tokenize;__file__='C:\\\\Users\\\\tjbad\\\\AppData\\\\Local\\\\Temp\\\\pip-build-vivghm9x\\\\wordcloud\\\\setup.py';f=getattr(tokenize, 'open', open)(__file__);code=f.read().replace('\\r\\n', '\\n');f.close();exec(compile(code, __file__, 'exec'))\" install --record C:\\Users\\tjbad\\AppData\\Local\\Temp\\pip-h5p5_qy0-record\\install-record.txt --single-version-externally-managed --compile\" failed with error code 1 in C:\\Users\\tjbad\\AppData\\Local\\Temp\\pip-build-vivghm9x\\wordcloud\\\n"
     ]
    }
   ],
   "source": [
    "!pip install wordcloud"
   ]
  },
  {
   "cell_type": "code",
   "execution_count": null,
   "metadata": {},
   "outputs": [],
   "source": []
  }
 ],
 "metadata": {
  "kernelspec": {
   "display_name": "Python 3",
   "language": "python",
   "name": "python3"
  },
  "language_info": {
   "codemirror_mode": {
    "name": "ipython",
    "version": 3
   },
   "file_extension": ".py",
   "mimetype": "text/x-python",
   "name": "python",
   "nbconvert_exporter": "python",
   "pygments_lexer": "ipython3",
   "version": "3.6.3"
  }
 },
 "nbformat": 4,
 "nbformat_minor": 2
}
