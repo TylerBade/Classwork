{
 "cells": [
  {
   "cell_type": "code",
   "execution_count": 32,
   "metadata": {},
   "outputs": [
    {
     "name": "stderr",
     "output_type": "stream",
     "text": [
      "D:\\Anaconda\\lib\\site-packages\\sklearn\\cross_validation.py:41: DeprecationWarning: This module was deprecated in version 0.18 in favor of the model_selection module into which all the refactored classes and functions are moved. Also note that the interface of the new CV iterators are different from that of this module. This module will be removed in 0.20.\n",
      "  \"This module will be removed in 0.20.\", DeprecationWarning)\n"
     ]
    }
   ],
   "source": [
    "## FINAL EXAM ##\n",
    "## TYLER BADE ##\n",
    "## IT 418##\n",
    "\n",
    "import numpy as np\n",
    "import pandas as pd\n",
    "import matplotlib.pyplot as plt\n",
    "import seaborn as sb\n",
    "from sklearn.feature_selection import SelectKBest\n",
    "from sklearn.feature_selection import chi2\n",
    "import sklearn\n",
    "from sklearn.preprocessing import scale \n",
    "from sklearn.linear_model import LogisticRegression\n",
    "from sklearn.cross_validation import train_test_split\n",
    "from sklearn import metrics\n",
    "from sklearn import preprocessing\n",
    "from sklearn import decomposition\n",
    "from sklearn.decomposition import PCA\n",
    "from sklearn import datasets"
   ]
  },
  {
   "cell_type": "code",
   "execution_count": 2,
   "metadata": {},
   "outputs": [],
   "source": [
    "## Read and load dataset ##\n",
    "patients = pd.read_csv(\"patients.csv\")"
   ]
  },
  {
   "cell_type": "code",
   "execution_count": 3,
   "metadata": {},
   "outputs": [
    {
     "data": {
      "text/html": [
       "<div>\n",
       "<style>\n",
       "    .dataframe thead tr:only-child th {\n",
       "        text-align: right;\n",
       "    }\n",
       "\n",
       "    .dataframe thead th {\n",
       "        text-align: left;\n",
       "    }\n",
       "\n",
       "    .dataframe tbody tr th {\n",
       "        vertical-align: top;\n",
       "    }\n",
       "</style>\n",
       "<table border=\"1\" class=\"dataframe\">\n",
       "  <thead>\n",
       "    <tr style=\"text-align: right;\">\n",
       "      <th></th>\n",
       "      <th>Pregnancies</th>\n",
       "      <th>Glucose</th>\n",
       "      <th>BloodPressure</th>\n",
       "      <th>SkinThickness</th>\n",
       "      <th>Insulin</th>\n",
       "      <th>BMI</th>\n",
       "      <th>Pedigree</th>\n",
       "      <th>Age</th>\n",
       "      <th>Diagnosis</th>\n",
       "    </tr>\n",
       "  </thead>\n",
       "  <tbody>\n",
       "    <tr>\n",
       "      <th>0</th>\n",
       "      <td>6</td>\n",
       "      <td>148</td>\n",
       "      <td>72</td>\n",
       "      <td>35</td>\n",
       "      <td>0</td>\n",
       "      <td>33.6</td>\n",
       "      <td>0.627</td>\n",
       "      <td>50</td>\n",
       "      <td>1</td>\n",
       "    </tr>\n",
       "    <tr>\n",
       "      <th>1</th>\n",
       "      <td>1</td>\n",
       "      <td>85</td>\n",
       "      <td>66</td>\n",
       "      <td>29</td>\n",
       "      <td>0</td>\n",
       "      <td>26.6</td>\n",
       "      <td>0.351</td>\n",
       "      <td>31</td>\n",
       "      <td>0</td>\n",
       "    </tr>\n",
       "    <tr>\n",
       "      <th>2</th>\n",
       "      <td>8</td>\n",
       "      <td>183</td>\n",
       "      <td>64</td>\n",
       "      <td>0</td>\n",
       "      <td>0</td>\n",
       "      <td>23.3</td>\n",
       "      <td>0.672</td>\n",
       "      <td>32</td>\n",
       "      <td>1</td>\n",
       "    </tr>\n",
       "    <tr>\n",
       "      <th>3</th>\n",
       "      <td>1</td>\n",
       "      <td>89</td>\n",
       "      <td>66</td>\n",
       "      <td>23</td>\n",
       "      <td>94</td>\n",
       "      <td>28.1</td>\n",
       "      <td>0.167</td>\n",
       "      <td>21</td>\n",
       "      <td>0</td>\n",
       "    </tr>\n",
       "    <tr>\n",
       "      <th>4</th>\n",
       "      <td>0</td>\n",
       "      <td>137</td>\n",
       "      <td>40</td>\n",
       "      <td>35</td>\n",
       "      <td>168</td>\n",
       "      <td>43.1</td>\n",
       "      <td>2.288</td>\n",
       "      <td>33</td>\n",
       "      <td>1</td>\n",
       "    </tr>\n",
       "  </tbody>\n",
       "</table>\n",
       "</div>"
      ],
      "text/plain": [
       "   Pregnancies  Glucose  BloodPressure  SkinThickness  Insulin   BMI  \\\n",
       "0            6      148             72             35        0  33.6   \n",
       "1            1       85             66             29        0  26.6   \n",
       "2            8      183             64              0        0  23.3   \n",
       "3            1       89             66             23       94  28.1   \n",
       "4            0      137             40             35      168  43.1   \n",
       "\n",
       "   Pedigree  Age  Diagnosis  \n",
       "0     0.627   50          1  \n",
       "1     0.351   31          0  \n",
       "2     0.672   32          1  \n",
       "3     0.167   21          0  \n",
       "4     2.288   33          1  "
      ]
     },
     "execution_count": 3,
     "metadata": {},
     "output_type": "execute_result"
    }
   ],
   "source": [
    "# Use Head() to examine data\n",
    "patients.head()"
   ]
  },
  {
   "cell_type": "code",
   "execution_count": 13,
   "metadata": {},
   "outputs": [
    {
     "data": {
      "text/html": [
       "<div>\n",
       "<style>\n",
       "    .dataframe thead tr:only-child th {\n",
       "        text-align: right;\n",
       "    }\n",
       "\n",
       "    .dataframe thead th {\n",
       "        text-align: left;\n",
       "    }\n",
       "\n",
       "    .dataframe tbody tr th {\n",
       "        vertical-align: top;\n",
       "    }\n",
       "</style>\n",
       "<table border=\"1\" class=\"dataframe\">\n",
       "  <thead>\n",
       "    <tr style=\"text-align: right;\">\n",
       "      <th></th>\n",
       "      <th>Pregnancies</th>\n",
       "      <th>Glucose</th>\n",
       "      <th>BloodPressure</th>\n",
       "      <th>SkinThickness</th>\n",
       "      <th>Insulin</th>\n",
       "      <th>BMI</th>\n",
       "      <th>Pedigree</th>\n",
       "      <th>Age</th>\n",
       "      <th>Diagnosis</th>\n",
       "    </tr>\n",
       "  </thead>\n",
       "  <tbody>\n",
       "    <tr>\n",
       "      <th>count</th>\n",
       "      <td>768.000000</td>\n",
       "      <td>768.000000</td>\n",
       "      <td>768.000000</td>\n",
       "      <td>768.000000</td>\n",
       "      <td>768.000000</td>\n",
       "      <td>768.000000</td>\n",
       "      <td>768.000000</td>\n",
       "      <td>768.00000</td>\n",
       "      <td>768.000000</td>\n",
       "    </tr>\n",
       "    <tr>\n",
       "      <th>mean</th>\n",
       "      <td>3.213542</td>\n",
       "      <td>116.320964</td>\n",
       "      <td>72.031250</td>\n",
       "      <td>20.138021</td>\n",
       "      <td>45.787760</td>\n",
       "      <td>31.814714</td>\n",
       "      <td>0.384495</td>\n",
       "      <td>29.78776</td>\n",
       "      <td>0.348958</td>\n",
       "    </tr>\n",
       "    <tr>\n",
       "      <th>std</th>\n",
       "      <td>2.561112</td>\n",
       "      <td>22.843585</td>\n",
       "      <td>9.698939</td>\n",
       "      <td>15.324111</td>\n",
       "      <td>63.208399</td>\n",
       "      <td>5.462071</td>\n",
       "      <td>0.190559</td>\n",
       "      <td>7.41175</td>\n",
       "      <td>0.476951</td>\n",
       "    </tr>\n",
       "    <tr>\n",
       "      <th>min</th>\n",
       "      <td>0.000000</td>\n",
       "      <td>67.000000</td>\n",
       "      <td>50.000000</td>\n",
       "      <td>0.000000</td>\n",
       "      <td>0.000000</td>\n",
       "      <td>19.900000</td>\n",
       "      <td>0.078000</td>\n",
       "      <td>21.00000</td>\n",
       "      <td>0.000000</td>\n",
       "    </tr>\n",
       "    <tr>\n",
       "      <th>25%</th>\n",
       "      <td>1.000000</td>\n",
       "      <td>100.000000</td>\n",
       "      <td>65.750000</td>\n",
       "      <td>0.000000</td>\n",
       "      <td>0.000000</td>\n",
       "      <td>27.775000</td>\n",
       "      <td>0.243750</td>\n",
       "      <td>24.00000</td>\n",
       "      <td>0.000000</td>\n",
       "    </tr>\n",
       "    <tr>\n",
       "      <th>50%</th>\n",
       "      <td>3.000000</td>\n",
       "      <td>115.500000</td>\n",
       "      <td>72.000000</td>\n",
       "      <td>23.000000</td>\n",
       "      <td>0.000000</td>\n",
       "      <td>32.000000</td>\n",
       "      <td>0.349000</td>\n",
       "      <td>28.00000</td>\n",
       "      <td>0.000000</td>\n",
       "    </tr>\n",
       "    <tr>\n",
       "      <th>75%</th>\n",
       "      <td>5.000000</td>\n",
       "      <td>130.000000</td>\n",
       "      <td>78.000000</td>\n",
       "      <td>32.000000</td>\n",
       "      <td>90.250000</td>\n",
       "      <td>35.425000</td>\n",
       "      <td>0.512500</td>\n",
       "      <td>34.00000</td>\n",
       "      <td>1.000000</td>\n",
       "    </tr>\n",
       "    <tr>\n",
       "      <th>max</th>\n",
       "      <td>9.000000</td>\n",
       "      <td>172.000000</td>\n",
       "      <td>94.000000</td>\n",
       "      <td>51.000000</td>\n",
       "      <td>210.000000</td>\n",
       "      <td>44.200000</td>\n",
       "      <td>0.875000</td>\n",
       "      <td>49.00000</td>\n",
       "      <td>1.000000</td>\n",
       "    </tr>\n",
       "  </tbody>\n",
       "</table>\n",
       "</div>"
      ],
      "text/plain": [
       "       Pregnancies     Glucose  BloodPressure  SkinThickness     Insulin  \\\n",
       "count   768.000000  768.000000     768.000000     768.000000  768.000000   \n",
       "mean      3.213542  116.320964      72.031250      20.138021   45.787760   \n",
       "std       2.561112   22.843585       9.698939      15.324111   63.208399   \n",
       "min       0.000000   67.000000      50.000000       0.000000    0.000000   \n",
       "25%       1.000000  100.000000      65.750000       0.000000    0.000000   \n",
       "50%       3.000000  115.500000      72.000000      23.000000    0.000000   \n",
       "75%       5.000000  130.000000      78.000000      32.000000   90.250000   \n",
       "max       9.000000  172.000000      94.000000      51.000000  210.000000   \n",
       "\n",
       "              BMI    Pedigree        Age   Diagnosis  \n",
       "count  768.000000  768.000000  768.00000  768.000000  \n",
       "mean    31.814714    0.384495   29.78776    0.348958  \n",
       "std      5.462071    0.190559    7.41175    0.476951  \n",
       "min     19.900000    0.078000   21.00000    0.000000  \n",
       "25%     27.775000    0.243750   24.00000    0.000000  \n",
       "50%     32.000000    0.349000   28.00000    0.000000  \n",
       "75%     35.425000    0.512500   34.00000    1.000000  \n",
       "max     44.200000    0.875000   49.00000    1.000000  "
      ]
     },
     "execution_count": 13,
     "metadata": {},
     "output_type": "execute_result"
    }
   ],
   "source": [
    "## Provide mean/median/std dev/quartiles ##\n",
    "patients.describe()"
   ]
  },
  {
   "cell_type": "markdown",
   "metadata": {},
   "source": [
    "We have 9 variables, and judging from the summary above, we have a few missing variables, appearing to be Glucose, Blood Pressure, and BMI\n",
    "\n",
    "The 50% quartile is the median, mean is provided second, standard deviation below"
   ]
  },
  {
   "cell_type": "code",
   "execution_count": 12,
   "metadata": {},
   "outputs": [],
   "source": [
    "## Find missing values and replace them with median values ##\n",
    "\n",
    "patients = patients.fillna(patients.median())"
   ]
  },
  {
   "cell_type": "code",
   "execution_count": 11,
   "metadata": {},
   "outputs": [],
   "source": [
    "## Find outliers and replace them with median values ##\n",
    "\n",
    "patients = patients.mask(patients.sub(patients.mean()).div(patients.std()).abs().gt(2))\n",
    "patients = patients.fillna(patients.median())"
   ]
  },
  {
   "cell_type": "code",
   "execution_count": 7,
   "metadata": {},
   "outputs": [],
   "source": [
    "## Set matplotlib to plot inline ##\n",
    "%matplotlib inline"
   ]
  },
  {
   "cell_type": "code",
   "execution_count": 14,
   "metadata": {},
   "outputs": [
    {
     "data": {
      "text/plain": [
       "array([[<matplotlib.axes._subplots.AxesSubplot object at 0x000001C00ECB60B8>,\n",
       "        <matplotlib.axes._subplots.AxesSubplot object at 0x000001C00ECDC3C8>,\n",
       "        <matplotlib.axes._subplots.AxesSubplot object at 0x000001C00ED16240>],\n",
       "       [<matplotlib.axes._subplots.AxesSubplot object at 0x000001C00ED4F240>,\n",
       "        <matplotlib.axes._subplots.AxesSubplot object at 0x000001C00ED892B0>,\n",
       "        <matplotlib.axes._subplots.AxesSubplot object at 0x000001C00ED892E8>],\n",
       "       [<matplotlib.axes._subplots.AxesSubplot object at 0x000001C00EDEBC50>,\n",
       "        <matplotlib.axes._subplots.AxesSubplot object at 0x000001C00EE27C50>,\n",
       "        <matplotlib.axes._subplots.AxesSubplot object at 0x000001C00EE691D0>]], dtype=object)"
      ]
     },
     "execution_count": 14,
     "metadata": {},
     "output_type": "execute_result"
    },
    {
     "data": {
      "image/png": "[encoded data removed]",
      "text/plain": [
       "<matplotlib.figure.Figure at 0x1c00eb9a4e0>"
      ]
     },
     "metadata": {},
     "output_type": "display_data"
    }
   ],
   "source": [
    "## Create histograms for each variable ##\n",
    "patients.hist()"
   ]
  },
  {
   "cell_type": "code",
   "execution_count": 15,
   "metadata": {},
   "outputs": [
    {
     "data": {
      "text/plain": [
       "<matplotlib.axes._subplots.AxesSubplot at 0x1c00ee154e0>"
      ]
     },
     "execution_count": 15,
     "metadata": {},
     "output_type": "execute_result"
    },
    {
     "data": {
      "image/png": "[encoded data removed]",
      "text/plain": [
       "<matplotlib.figure.Figure at 0x1c00ec6e588>"
      ]
     },
     "metadata": {},
     "output_type": "display_data"
    }
   ],
   "source": [
    " ## Create boxplots for each variable ##\n",
    "patients.boxplot()"
   ]
  },
  {
   "cell_type": "code",
   "execution_count": 26,
   "metadata": {},
   "outputs": [
    {
     "data": {
      "text/plain": [
       "<matplotlib.axes._subplots.AxesSubplot at 0x1c0149b0860>"
      ]
     },
     "execution_count": 26,
     "metadata": {},
     "output_type": "execute_result"
    },
    {
     "data": {
      "image/png": "[encoded data removed]",
      "text/plain": [
       "<matplotlib.figure.Figure at 0x1c0149bd860>"
      ]
     },
     "metadata": {},
     "output_type": "display_data"
    }
   ],
   "source": [
    "## Create a heatmap to see correlation between variables\n",
    "corr = patients.corr()\n",
    "\n",
    "sb.heatmap(corr)"
   ]
  },
  {
   "cell_type": "markdown",
   "metadata": {},
   "source": [
    "This heatmap shows us the relationships between each variable, the brighter it is, the higher the correlation. It seems Age and Pregnancies are highly correlated, as well as insulin and skin thickness, and glucose and diagnosis."
   ]
  },
  {
   "cell_type": "code",
   "execution_count": 48,
   "metadata": {},
   "outputs": [
    {
     "name": "stdout",
     "output_type": "stream",
     "text": [
      "[   6e+01    5e+02    2e+01    4e+01    3e-01    5e+01    1e+00    1e+02]\n",
      "[[   6.  148.   34.   28.]\n",
      " [   1.   85.   27.   31.]\n",
      " [   8.  116.   23.   32.]\n",
      " [   1.   89.   28.   21.]\n",
      " [   0.  137.   43.   33.]]\n"
     ]
    }
   ],
   "source": [
    "## Finding Best Performing features in Scikit Learn ##\n",
    "array = patients.values\n",
    "X=array[:,0:8]\n",
    "Y=array[:,8]\n",
    "test = SelectKBest(score_func = chi2, k=4)\n",
    "fit = test.fit(X,Y)\n",
    "np.set_printoptions(precision=0)\n",
    "print(fit.scores_)\n",
    "features = fit.transform(X)\n",
    "print(features[0:5,:])"
   ]
  },
  {
   "cell_type": "markdown",
   "metadata": {},
   "source": [
    "The three best performing features are Pregnancies, Glucose, and Age"
   ]
  },
  {
   "cell_type": "code",
   "execution_count": 51,
   "metadata": {},
   "outputs": [
    {
     "data": {
      "text/plain": [
       "array([[ 1.,  1., -0., ...,  1., -0.,  1.],\n",
       "       [-1., -1., -1., ..., -0.,  0., -1.],\n",
       "       [ 2., -0., -1., ...,  2.,  0.,  1.],\n",
       "       ..., \n",
       "       [ 1.,  0., -0., ..., -1.,  0., -1.],\n",
       "       [-1.,  0., -1., ..., -0.,  2.,  1.],\n",
       "       [-1., -1., -0., ..., -0., -1., -1.]])"
      ]
     },
     "execution_count": 51,
     "metadata": {},
     "output_type": "execute_result"
    }
   ],
   "source": [
    "## Standardize features to Gaussian distribution\n",
    "X_train = patients.values\n",
    "X_scaled = preprocessing.scale(X_train)\n",
    "X_scaled"
   ]
  },
  {
   "cell_type": "code",
   "execution_count": 58,
   "metadata": {},
   "outputs": [
    {
     "data": {
      "text/plain": [
       "array([  3.,  23.,   9.,  15.,  65.,   5.,   0.,   7.,   0.])"
      ]
     },
     "execution_count": 58,
     "metadata": {},
     "output_type": "execute_result"
    }
   ],
   "source": [
    "scaler = preprocessing.StandardScaler().X_fit(train)\n",
    "scaler\n",
    "scaler.mean_\n",
    "scaler.scale_"
   ]
  },
  {
   "cell_type": "code",
   "execution_count": 59,
   "metadata": {},
   "outputs": [
    {
     "data": {
      "text/plain": [
       "array([[-1.,  1.,  1., ...,  1., -0., -1.],\n",
       "       [ 2.,  1.,  0., ...,  0., -0., -1.],\n",
       "       [-1., -1.,  0., ...,  1.,  1., -1.],\n",
       "       ..., \n",
       "       [-1., -0.,  0., ..., -2.,  1.,  1.],\n",
       "       [-1., -1., -2., ...,  1., -1., -1.],\n",
       "       [-0., -1., -1., ..., -1., -1., -1.]])"
      ]
     },
     "execution_count": 59,
     "metadata": {},
     "output_type": "execute_result"
    }
   ],
   "source": [
    "scaler.transform(X_train)"
   ]
  },
  {
   "cell_type": "code",
   "execution_count": 60,
   "metadata": {},
   "outputs": [
    {
     "data": {
      "text/plain": [
       "array([[ 0., -1.,  2., ..., -1., -1., -1.],\n",
       "       [-0., -1.,  1., ...,  2., -0.,  1.],\n",
       "       [-1.,  0., -0., ..., -1., -1., -1.],\n",
       "       ..., \n",
       "       [ 0.,  1., -0., ..., -0., -1.,  1.],\n",
       "       [-0.,  0.,  1., ..., -0., -1., -1.],\n",
       "       [-0., -1.,  0., ..., -1., -0., -1.]])"
      ]
     },
     "execution_count": 60,
     "metadata": {},
     "output_type": "execute_result"
    }
   ],
   "source": [
    "scaler.transform(test)"
   ]
  },
  {
   "cell_type": "code",
   "execution_count": 61,
   "metadata": {},
   "outputs": [],
   "source": [
    "## Splitting the dataset 60/40 for training/testing ##\n",
    "train, test = train_test_split(patients, test_size=0.4)"
   ]
  },
  {
   "cell_type": "code",
   "execution_count": null,
   "metadata": {},
   "outputs": [],
   "source": [
    "## Create a logistic Regression Model ##"
   ]
  }
 ],
 "metadata": {
  "kernelspec": {
   "display_name": "Python 3",
   "language": "python",
   "name": "python3"
  },
  "language_info": {
   "codemirror_mode": {
    "name": "ipython",
    "version": 3
   },
   "file_extension": ".py",
   "mimetype": "text/x-python",
   "name": "python",
   "nbconvert_exporter": "python",
   "pygments_lexer": "ipython3",
   "version": "3.6.3"
  }
 },
 "nbformat": 4,
 "nbformat_minor": 2
}
