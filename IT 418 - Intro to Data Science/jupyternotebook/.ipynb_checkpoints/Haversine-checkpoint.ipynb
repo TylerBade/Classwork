{
 "cells": [
  {
   "cell_type": "code",
   "execution_count": 2,
   "metadata": {},
   "outputs": [],
   "source": [
    "import pandas as pd\n",
    "import math\n",
    "import numpy as np"
   ]
  },
  {
   "cell_type": "code",
   "execution_count": 3,
   "metadata": {},
   "outputs": [],
   "source": [
    "data = pd.read_csv('Tornado Coords only.csv')"
   ]
  },
  {
   "cell_type": "code",
   "execution_count": 4,
   "metadata": {},
   "outputs": [
    {
     "data": {
      "text/html": [
       "<div>\n",
       "<style>\n",
       "    .dataframe thead tr:only-child th {\n",
       "        text-align: right;\n",
       "    }\n",
       "\n",
       "    .dataframe thead th {\n",
       "        text-align: left;\n",
       "    }\n",
       "\n",
       "    .dataframe tbody tr th {\n",
       "        vertical-align: top;\n",
       "    }\n",
       "</style>\n",
       "<table border=\"1\" class=\"dataframe\">\n",
       "  <thead>\n",
       "    <tr style=\"text-align: right;\">\n",
       "      <th></th>\n",
       "      <th>BEGIN_LAT</th>\n",
       "      <th>BEGIN_LON</th>\n",
       "      <th>END_LAT</th>\n",
       "      <th>END_LON</th>\n",
       "    </tr>\n",
       "  </thead>\n",
       "  <tbody>\n",
       "    <tr>\n",
       "      <th>0</th>\n",
       "      <td>25.47</td>\n",
       "      <td>-80.63</td>\n",
       "      <td>25.47</td>\n",
       "      <td>-80.47</td>\n",
       "    </tr>\n",
       "    <tr>\n",
       "      <th>1</th>\n",
       "      <td>38.15</td>\n",
       "      <td>-75.95</td>\n",
       "      <td>38.17</td>\n",
       "      <td>-75.93</td>\n",
       "    </tr>\n",
       "    <tr>\n",
       "      <th>2</th>\n",
       "      <td>37.53</td>\n",
       "      <td>-87.27</td>\n",
       "      <td>37.53</td>\n",
       "      <td>-87.27</td>\n",
       "    </tr>\n",
       "    <tr>\n",
       "      <th>3</th>\n",
       "      <td>43.87</td>\n",
       "      <td>-116.50</td>\n",
       "      <td>43.87</td>\n",
       "      <td>-116.50</td>\n",
       "    </tr>\n",
       "    <tr>\n",
       "      <th>4</th>\n",
       "      <td>32.85</td>\n",
       "      <td>-90.42</td>\n",
       "      <td>32.85</td>\n",
       "      <td>-90.42</td>\n",
       "    </tr>\n",
       "  </tbody>\n",
       "</table>\n",
       "</div>"
      ],
      "text/plain": [
       "   BEGIN_LAT  BEGIN_LON  END_LAT  END_LON\n",
       "0      25.47     -80.63    25.47   -80.47\n",
       "1      38.15     -75.95    38.17   -75.93\n",
       "2      37.53     -87.27    37.53   -87.27\n",
       "3      43.87    -116.50    43.87  -116.50\n",
       "4      32.85     -90.42    32.85   -90.42"
      ]
     },
     "execution_count": 4,
     "metadata": {},
     "output_type": "execute_result"
    }
   ],
   "source": [
    "data.head()"
   ]
  },
  {
   "cell_type": "code",
   "execution_count": 5,
   "metadata": {},
   "outputs": [],
   "source": [
    "radius = 6371\n",
    "length = len(data)\n",
    "totaldist = 0"
   ]
  },
  {
   "cell_type": "code",
   "execution_count": 12,
   "metadata": {},
   "outputs": [],
   "source": [
    "def haversine(row):\n",
    "    blat = row[['BEGIN_LAT']]\n",
    "    blon = row[['BEGIN_LON']]\n",
    "    elat = row[['END_LAT']]\n",
    "    elon = row[['END_LON']]\n",
    "    \n",
    "    blon,blat,elon,elat = map(math.radians, [blon,blat,elon,elat])\n",
    "    dlon = elon-blon\n",
    "    dlat = elat-blat\n",
    "    a = np.sin(dlat/2)**2 + np.cos(blat) * np.cos(elat) * np.sin(dlon/2)**2\n",
    "    c = 2*np.arcsin(np.sqrt(a))\n",
    "    km = radius * c\n",
    "    return km\n",
    "\n",
    "data['distance'] = data.apply(lambda row: haversine(row), axis=1)"
   ]
  },
  {
   "cell_type": "code",
   "execution_count": 13,
   "metadata": {},
   "outputs": [
    {
     "data": {
      "text/html": [
       "<div>\n",
       "<style>\n",
       "    .dataframe thead tr:only-child th {\n",
       "        text-align: right;\n",
       "    }\n",
       "\n",
       "    .dataframe thead th {\n",
       "        text-align: left;\n",
       "    }\n",
       "\n",
       "    .dataframe tbody tr th {\n",
       "        vertical-align: top;\n",
       "    }\n",
       "</style>\n",
       "<table border=\"1\" class=\"dataframe\">\n",
       "  <thead>\n",
       "    <tr style=\"text-align: right;\">\n",
       "      <th></th>\n",
       "      <th>BEGIN_LAT</th>\n",
       "      <th>BEGIN_LON</th>\n",
       "      <th>END_LAT</th>\n",
       "      <th>END_LON</th>\n",
       "      <th>distance</th>\n",
       "    </tr>\n",
       "  </thead>\n",
       "  <tbody>\n",
       "    <tr>\n",
       "      <th>0</th>\n",
       "      <td>25.47</td>\n",
       "      <td>-80.63</td>\n",
       "      <td>25.47</td>\n",
       "      <td>-80.47</td>\n",
       "      <td>16.062072</td>\n",
       "    </tr>\n",
       "    <tr>\n",
       "      <th>1</th>\n",
       "      <td>38.15</td>\n",
       "      <td>-75.95</td>\n",
       "      <td>38.17</td>\n",
       "      <td>-75.93</td>\n",
       "      <td>2.829031</td>\n",
       "    </tr>\n",
       "    <tr>\n",
       "      <th>2</th>\n",
       "      <td>37.53</td>\n",
       "      <td>-87.27</td>\n",
       "      <td>37.53</td>\n",
       "      <td>-87.27</td>\n",
       "      <td>0.000000</td>\n",
       "    </tr>\n",
       "    <tr>\n",
       "      <th>3</th>\n",
       "      <td>43.87</td>\n",
       "      <td>-116.50</td>\n",
       "      <td>43.87</td>\n",
       "      <td>-116.50</td>\n",
       "      <td>0.000000</td>\n",
       "    </tr>\n",
       "    <tr>\n",
       "      <th>4</th>\n",
       "      <td>32.85</td>\n",
       "      <td>-90.42</td>\n",
       "      <td>32.85</td>\n",
       "      <td>-90.42</td>\n",
       "      <td>0.000000</td>\n",
       "    </tr>\n",
       "  </tbody>\n",
       "</table>\n",
       "</div>"
      ],
      "text/plain": [
       "   BEGIN_LAT  BEGIN_LON  END_LAT  END_LON   distance\n",
       "0      25.47     -80.63    25.47   -80.47  16.062072\n",
       "1      38.15     -75.95    38.17   -75.93   2.829031\n",
       "2      37.53     -87.27    37.53   -87.27   0.000000\n",
       "3      43.87    -116.50    43.87  -116.50   0.000000\n",
       "4      32.85     -90.42    32.85   -90.42   0.000000"
      ]
     },
     "execution_count": 13,
     "metadata": {},
     "output_type": "execute_result"
    }
   ],
   "source": [
    "data.head()"
   ]
  },
  {
   "cell_type": "code",
   "execution_count": 16,
   "metadata": {},
   "outputs": [
    {
     "data": {
      "text/plain": [
       "12.417105687840035"
      ]
     },
     "execution_count": 16,
     "metadata": {},
     "output_type": "execute_result"
    }
   ],
   "source": [
    "np.mean(data['distance'])"
   ]
  },
  {
   "cell_type": "code",
   "execution_count": null,
   "metadata": {},
   "outputs": [],
   "source": []
  }
 ],
 "metadata": {
  "kernelspec": {
   "display_name": "Python 3",
   "language": "python",
   "name": "python3"
  },
  "language_info": {
   "codemirror_mode": {
    "name": "ipython",
    "version": 3
   },
   "file_extension": ".py",
   "mimetype": "text/x-python",
   "name": "python",
   "nbconvert_exporter": "python",
   "pygments_lexer": "ipython3",
   "version": "3.6.3"
  }
 },
 "nbformat": 4,
 "nbformat_minor": 2
}
